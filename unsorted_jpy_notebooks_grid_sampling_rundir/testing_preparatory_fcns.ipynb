{
 "cells": [
  {
   "cell_type": "code",
   "execution_count": 4,
   "metadata": {},
   "outputs": [
    {
     "name": "stdout",
     "output_type": "stream",
     "text": [
      "[[0.  0.  0. ]\n",
      " [0.  0.  0.5]\n",
      " [0.  0.5 0. ]\n",
      " [0.  0.5 0.5]\n",
      " [0.5 0.  0. ]\n",
      " [0.5 0.  0.5]\n",
      " [0.5 0.5 0.5]]\n",
      "[[0.33333333 0.33333333 0.33333333]\n",
      " [0.33333333 0.33333333 0.5       ]\n",
      " [0.33333333 0.5        0.33333333]\n",
      " [0.33333333 0.5        0.5       ]\n",
      " [0.5        0.33333333 0.33333333]\n",
      " [0.5        0.33333333 0.5       ]\n",
      " [0.5        0.5        0.5       ]]\n"
     ]
    }
   ],
   "source": [
    "## Test of the unitcell_to_supercell_frac_coords function ## \n",
    "\n",
    "import preparatory_fcns\n",
    "from preparatory_fcns import unitcell_to_supercell_frac_coords as us2sp_fcoord\n",
    "import ase\n",
    "from ase import Atoms\n",
    "import numpy as np\n",
    "\n",
    "# Make atoms object, wait why??\n",
    "#atoms = Atoms('H3',[[0,0,0],[2,0,0],[0,2,0]], cell=[3,3,3], pbc=[True,True,True])\n",
    "\n",
    "# Make fractional grid\n",
    "grid  = np.array([[0,0,0],[0,0,1.5], [0,1.5,0],[0,1.5,1.5],[1.5,0,0],[1.5,0,1.5],[1.5,1.5,1.5]])\n",
    "frac_grid = np.divide(grid,(3,3,3))\n",
    "print(frac_grid)\n",
    "\n",
    "# Translate the fractional coordinates of the grid to correspond to a middle unitcell in a 3x3x3 supercell\n",
    "new_grid = us2sp_fcoord(frac_grid,(3,3,3))\n",
    "print(new_grid)"
   ]
  },
  {
   "cell_type": "code",
   "execution_count": 5,
   "metadata": {},
   "outputs": [
    {
     "name": "stdout",
     "output_type": "stream",
     "text": [
      "Atoms(symbols='Li2ZnGe', pbc=True, cell=[[4.3592827, 0.0, 0.0], [2.1796413500000003, 3.775249560478017, 0.0], [2.1796413500000003, 1.2584165201593394, 3.5593394198473853]])\n",
      "Atoms(symbols='ZnGe', pbc=True, cell=[[4.3592827, 0.0, 0.0], [2.1796413500000003, 3.775249560478017, 0.0], [2.1796413500000003, 1.2584165201593394, 3.5593394198473853]])\n",
      "Atoms(symbols='ZnGe', pbc=True, cell=[[4.3592827, 0.0, 0.0], [2.1796413500000003, 3.775249560478017, 0.0], [2.1796413500000003, 1.2584165201593394, 3.5593394198473853]])\n"
     ]
    }
   ],
   "source": [
    "### TEST OF ATOM REMOVING FUNCTION \n",
    "from preparatory_fcns import remove_nonframework_cations_fancy, remove_nonframework_cations\n",
    "from ase import Atom\n",
    "from ase.io import read, write\n",
    "from ase.io.cube import write_cube\n",
    "from pathlib import Path\n",
    "\n",
    "parent_path = Path(\"Melania_data\")\n",
    "data_path = Path(parent_path, \"data_lmp\")\n",
    "cif_path =  Path(parent_path, 'init_cif', '54189.cif')\n",
    "\n",
    "#with open(cif_path) as fp:\n",
    "#    test_atoms = read(fp)\n",
    "test_atoms = read(cif_path)\n",
    "\n",
    "cation = Atom('Li')\n",
    "\n",
    "catremoved_atoms_1 = remove_nonframework_cations(test_atoms, cation)\n",
    "catremoved_atoms_2 = remove_nonframework_cations_fancy(test_atoms, cation)\n",
    "\n",
    "print(test_atoms)\n",
    "print(catremoved_atoms_1)\n",
    "print(catremoved_atoms_2)\n",
    "\n"
   ]
  },
  {
   "cell_type": "code",
   "execution_count": 8,
   "metadata": {},
   "outputs": [
    {
     "name": "stdout",
     "output_type": "stream",
     "text": [
      "Hello 1\n",
      "Hello 2\n",
      "Hello 3\n",
      "(10.0, 10.0, 10.0)\n",
      "10.0\n",
      "Min distance check:  10.0\n",
      "3\n",
      "Spacegroup:  215   P -4 3 m\n",
      "  setting 1\n",
      "  centrosymmetric 0\n",
      "  primitive vectors\n",
      "     1.0000000000  0.0000000000  0.0000000000\n",
      "     0.0000000000  1.0000000000  0.0000000000\n",
      "     0.0000000000  0.0000000000  1.0000000000\n",
      "  reciprocal vectors\n",
      "      1   0   0\n",
      "      0   1   0\n",
      "      0   0   1\n",
      "  1 subtranslations\n",
      "     0.0000000000  0.0000000000  0.0000000000\n",
      "  24 symmetry operations (rot+trans)\n",
      "    1  0  0     0  1  0     0  0  1    0.0000000000  0.0000000000  0.0000000000\n",
      "   -1  0  0     0 -1  0     0  0  1    0.0000000000  0.0000000000  0.0000000000\n",
      "   -1  0  0     0  1  0     0  0 -1    0.0000000000  0.0000000000  0.0000000000\n",
      "    1  0  0     0 -1  0     0  0 -1    0.0000000000  0.0000000000  0.0000000000\n",
      "    0  0  1     1  0  0     0  1  0    0.0000000000  0.0000000000  0.0000000000\n",
      "    0  0  1    -1  0  0     0 -1  0    0.0000000000  0.0000000000  0.0000000000\n",
      "    0  0 -1    -1  0  0     0  1  0    0.0000000000  0.0000000000  0.0000000000\n",
      "    0  0 -1     1  0  0     0 -1  0    0.0000000000  0.0000000000  0.0000000000\n",
      "    0  1  0     0  0  1     1  0  0    0.0000000000  0.0000000000  0.0000000000\n",
      "    0 -1  0     0  0  1    -1  0  0    0.0000000000  0.0000000000  0.0000000000\n",
      "    0  1  0     0  0 -1    -1  0  0    0.0000000000  0.0000000000  0.0000000000\n",
      "    0 -1  0     0  0 -1     1  0  0    0.0000000000  0.0000000000  0.0000000000\n",
      "    0  1  0     1  0  0     0  0  1    0.0000000000  0.0000000000  0.0000000000\n",
      "    0 -1  0    -1  0  0     0  0  1    0.0000000000  0.0000000000  0.0000000000\n",
      "    0  1  0    -1  0  0     0  0 -1    0.0000000000  0.0000000000  0.0000000000\n",
      "    0 -1  0     1  0  0     0  0 -1    0.0000000000  0.0000000000  0.0000000000\n",
      "    1  0  0     0  0  1     0  1  0    0.0000000000  0.0000000000  0.0000000000\n",
      "   -1  0  0     0  0  1     0 -1  0    0.0000000000  0.0000000000  0.0000000000\n",
      "   -1  0  0     0  0 -1     0  1  0    0.0000000000  0.0000000000  0.0000000000\n",
      "    1  0  0     0  0 -1     0 -1  0    0.0000000000  0.0000000000  0.0000000000\n",
      "    0  0  1     0  1  0     1  0  0    0.0000000000  0.0000000000  0.0000000000\n",
      "    0  0  1     0 -1  0    -1  0  0    0.0000000000  0.0000000000  0.0000000000\n",
      "    0  0 -1     0  1  0    -1  0  0    0.0000000000  0.0000000000  0.0000000000\n",
      "    0  0 -1     0 -1  0     1  0  0    0.0000000000  0.0000000000  0.0000000000\n",
      "\n",
      "\n"
     ]
    },
    {
     "ename": "AttributeError",
     "evalue": "type object 'Atom' has no attribute 'spacegroup'",
     "output_type": "error",
     "traceback": [
      "\u001b[0;31m---------------------------------------------------------------------------\u001b[0m",
      "\u001b[0;31mAttributeError\u001b[0m                            Traceback (most recent call last)",
      "\u001b[1;32m/home/hannes/Desktop/Python_Coding/BenjaminBolbrinker_Code/grid_sampling_rundir/testing_preparatory_fcns.ipynb Cell 3\u001b[0m in \u001b[0;36m<cell line: 24>\u001b[0;34m()\u001b[0m\n\u001b[1;32m     <a href='vscode-notebook-cell:/home/hannes/Desktop/Python_Coding/BenjaminBolbrinker_Code/grid_sampling_rundir/testing_preparatory_fcns.ipynb#W2sZmlsZQ%3D%3D?line=21'>22</a>\u001b[0m \u001b[39mprint\u001b[39m(sup_cell_size)\n\u001b[1;32m     <a href='vscode-notebook-cell:/home/hannes/Desktop/Python_Coding/BenjaminBolbrinker_Code/grid_sampling_rundir/testing_preparatory_fcns.ipynb#W2sZmlsZQ%3D%3D?line=22'>23</a>\u001b[0m \u001b[39mprint\u001b[39m(\u001b[39m\"\u001b[39m\u001b[39mSpacegroup: \u001b[39m\u001b[39m\"\u001b[39m, ase\u001b[39m.\u001b[39mspacegroup\u001b[39m.\u001b[39mget_spacegroup(test_cell))\n\u001b[0;32m---> <a href='vscode-notebook-cell:/home/hannes/Desktop/Python_Coding/BenjaminBolbrinker_Code/grid_sampling_rundir/testing_preparatory_fcns.ipynb#W2sZmlsZQ%3D%3D?line=23'>24</a>\u001b[0m ase\u001b[39m.\u001b[39;49mAtom\u001b[39m.\u001b[39;49mspacegroup\n",
      "\u001b[0;31mAttributeError\u001b[0m: type object 'Atom' has no attribute 'spacegroup'"
     ]
    }
   ],
   "source": [
    "# TEST OF FUNCTION CALCULATING THE APPROPRIATE SUPERCELL SIZE \n",
    "# FROM UNITCELL AND FORCE CUT-OFF\n",
    "from preparatory_fcns import compute_req_supercells as crsp\n",
    "import matplotlib.pyplot as plt\n",
    "\n",
    "f_cutoff = 10.0\n",
    "\n",
    "test_cell = ase.Atoms(\"Na4Cl4\",\n",
    "                        cell=np.diag([10, 10, 10]),\n",
    "                        positions=[[1.0, 1.0, 1.0],\n",
    "                                   [9.0, 9.0, 1.0],\n",
    "                                   [9.0, 1.0, 9.0],\n",
    "                                   [1.0, 9.0, 9.0],\n",
    "                                   [9.0, 9.0, 9.0],\n",
    "                                   [1.0, 1.0, 9.0],\n",
    "                                   [1.0, 9.0, 1.0],\n",
    "                                   [9.0, 1.0, 1.0]],\n",
    "                        pbc=[1,1,1]\n",
    "                        )\n",
    "\n",
    "sup_cell_size = crsp(test_cell, f_cutoff)\n",
    "print(sup_cell_size)\n",
    "print(\"Spacegroup: \", ase.spacegroup.get_spacegroup(test_cell))"
   ]
  },
  {
   "cell_type": "code",
   "execution_count": null,
   "metadata": {},
   "outputs": [],
   "source": []
  }
 ],
 "metadata": {
  "kernelspec": {
   "display_name": "Python 3.8.10 64-bit",
   "language": "python",
   "name": "python3"
  },
  "language_info": {
   "codemirror_mode": {
    "name": "ipython",
    "version": 3
   },
   "file_extension": ".py",
   "mimetype": "text/x-python",
   "name": "python",
   "nbconvert_exporter": "python",
   "pygments_lexer": "ipython3",
   "version": "3.8.10"
  },
  "orig_nbformat": 4,
  "vscode": {
   "interpreter": {
    "hash": "916dbcbb3f70747c44a77c7bcd40155683ae19c65e1c03b4aa3499c5328201f1"
   }
  }
 },
 "nbformat": 4,
 "nbformat_minor": 2
}
