{
 "cells": [
  {
   "cell_type": "code",
   "execution_count": 1,
   "metadata": {},
   "outputs": [
    {
     "name": "stdout",
     "output_type": "stream",
     "text": [
      "['    1        0.025000        2.183593 # Li Li', '    2        0.059000        2.819694 # Nb3+5 Nb3+5', '    3        0.060000        3.118146 # O_2 O_2']\n",
      "Pair potentials:\n",
      "---------------\n",
      "['pair_coeff 1 1 0.025000 2.183593', 'pair_coeff 2 2 0.059000 2.819694', 'pair_coeff 3 3 0.060000 3.118146']\n",
      "\n"
     ]
    }
   ],
   "source": [
    "import ase, ase.io\n",
    "import numpy as np\n",
    "\n",
    "# Test of mel_read_pp_from_lmp_data_file\n",
    "from lammps_calc_from_inp import mel_read_pp_from_lmp_data_file\n",
    "\n",
    "datafile = \"Melania_data/1-nvt/54209/data.54209\"\n",
    "\n",
    "\n",
    "lmpscmds_pp = mel_read_pp_from_lmp_data_file(datafile)\n",
    "print(\"Pair potentials:\")\n",
    "print(\"---------------\")\n",
    "print(lmpscmds_pp)\n",
    "print()\n"
   ]
  },
  {
   "cell_type": "code",
   "execution_count": 2,
   "metadata": {},
   "outputs": [
    {
     "name": "stdout",
     "output_type": "stream",
     "text": [
      "Lammps header:\n",
      "---------------\n",
      "['units real', 'atom_style full', 'boundary p p p']\n",
      "\n",
      "\n",
      "lmpscmds in:\n",
      "---------------\n",
      "['pair_style lj/cut/coul/long 12.500', 'special_bonds lj/coul 0.0 0.0 1.0', 'dielectric 1.0', 'pair_modify tail yes mix arithmetic', 'kspace_style ewald 1.0e-5']\n",
      "\n"
     ]
    }
   ],
   "source": [
    "# Test of mel_lmp_read_in_file\n",
    "\n",
    "from lammps_calc_from_inp import mel_lmp_read_in_file\n",
    "\n",
    "infile = \"Melania_data/1-nvt/54209/in.54209\"\n",
    "lammps_header, lmpscmds_in = mel_lmp_read_in_file(infile)\n",
    "print(\"Lammps header:\")\n",
    "print(\"---------------\")\n",
    "print(lammps_header)\n",
    "print()\n",
    "print()\n",
    "print(\"lmpscmds in:\")\n",
    "print(\"---------------\")\n",
    "print(lmpscmds_in)\n",
    "print()"
   ]
  },
  {
   "cell_type": "code",
   "execution_count": 3,
   "metadata": {},
   "outputs": [
    {
     "name": "stdout",
     "output_type": "stream",
     "text": [
      "charges:\n",
      "---------------\n",
      "['set type 1 charge 0.92', 'set type 2 charge 2.59', 'set type 3 charge -1.17']\n",
      "\n"
     ]
    }
   ],
   "source": [
    "# Test of mel_lmp_read_charges_file\n",
    "from lammps_calc_from_inp import mel_lmp_read_charges_file\n",
    "\n",
    "charges_file = \"Melania_data/1-nvt/54209/set_charges.lmp\"\n",
    "\n",
    "charges = mel_lmp_read_charges_file(charges_file)\n",
    "\n",
    "print(\"charges:\")\n",
    "print(\"---------------\")\n",
    "print(charges)\n",
    "print()\n"
   ]
  },
  {
   "cell_type": "code",
   "execution_count": 4,
   "metadata": {},
   "outputs": [
    {
     "name": "stdout",
     "output_type": "stream",
     "text": [
      "['    1        0.025000        2.183593 # Li Li', '    2        0.059000        2.819694 # Nb3+5 Nb3+5', '    3        0.060000        3.118146 # O_2 O_2']\n",
      "Atomic mass threshold, for issuing a warning, is 0.05\n",
      "lmpcmds\n",
      "['pair_style lj/cut/coul/long 12.500', 'special_bonds lj/coul 0.0 0.0 1.0', 'dielectric 1.0', 'pair_modify tail yes mix arithmetic', 'kspace_style ewald 1.0e-5', 'pair_coeff 1 1 0.025000 2.183593', 'pair_coeff 2 2 0.059000 2.819694', 'pair_coeff 3 3 0.060000 3.118146']\n",
      "input dict:\n",
      "-----------\n",
      "lmpcmds:['pair_style lj/cut/coul/long 12.500', 'special_bonds lj/coul 0.0 0.0 1.0', 'dielectric 1.0', 'pair_modify tail yes mix arithmetic', 'kspace_style ewald 1.0e-5', 'pair_coeff 1 1 0.025000 2.183593', 'pair_coeff 2 2 0.059000 2.819694', 'pair_coeff 3 3 0.060000 3.118146'],\n",
      "atom_types:{'Li': '1', 'Nb': '2', 'O': '3'},\n",
      "atom_type_masses:{'Li': '6.941000000', 'Nb': '92.906380000', 'O': '15.999400000'},\n",
      "lammps_header:['units real', 'atom_style full', 'boundary p p p'],\n",
      "amendments:['set type 1 charge 0.92', 'set type 2 charge 2.59', 'set type 3 charge -1.17']\n",
      "\n"
     ]
    }
   ],
   "source": [
    "# Test of parser_lammps_mel\n",
    "\n",
    "from lammps_calc_from_inp import parser_lammps_mel_inp\n",
    "\n",
    "input_dict = parser_lammps_mel_inp(datafile, infile, charges_file)\n",
    "\n",
    "print(\"input dict:\")\n",
    "print(\"-----------\")\n",
    "#print(input_dict)\n",
    "print(\"{},\\n{},\\n{},\\n{},\\n{}\".format(*[\":\".join(list(map(str,x))) for x in zip(input_dict.keys(), input_dict.values())]))\n",
    "print()\n"
   ]
  },
  {
   "cell_type": "code",
   "execution_count": 5,
   "metadata": {},
   "outputs": [
    {
     "name": "stdout",
     "output_type": "stream",
     "text": [
      "  hello  this        is a 222     string   with   67608            tooo      much    spaces    \n",
      "hello this is a 222 string with 67608 tooo much spaces\n"
     ]
    }
   ],
   "source": [
    "# Testing reducing whitespace with reduce_whitespace\n",
    "\n",
    "def reduce_whitespace(string: str) -> str:\n",
    "\n",
    "    reduced_str = \" \".join(string.split())\n",
    "    return reduced_str\n",
    "\n",
    "test_str1= \"  hello  this        is a 222     string   with   67608            tooo      much    spaces    \"\n",
    "red_test_str1 = reduce_whitespace(test_str1)\n",
    "\n",
    "print(test_str1)\n",
    "print(red_test_str1)"
   ]
  },
  {
   "cell_type": "code",
   "execution_count": 6,
   "metadata": {},
   "outputs": [
    {
     "name": "stdout",
     "output_type": "stream",
     "text": [
      "\n",
      "@subdir_calc\n",
      "def XYZ_method(atoms: ase.Atoms):\n",
      "\n",
      "    lmpcmds = [\"pair_style lj/cut/coul/long 12.500\",\n",
      "\t       \"special_bonds lj/coul 0.0 0.0 1.0\",\n",
      "\t       \"dielectric 1.0\",\n",
      "\t       \"pair_modify tail yes mix arithmetic\",\n",
      "\t       \"kspace_style ewald 1.0e-5\",\n",
      "\t       \"pair_coeff 1 1 0.025000 2.183593\",\n",
      "\t       \"pair_coeff 2 2 0.059000 2.819694\",\n",
      "\t       \"pair_coeff 3 3 0.060000 3.118146\"]\n",
      "    \n",
      "    atoms_types = {'Li': '1', 'Nb': '2', 'O': '3'}\n",
      "\n",
      "    atom_type_masses = {'Li': '6.941000000', 'Nb': '92.906380000', 'O': '15.999400000'}\n",
      "\n",
      "    log_file = None\n",
      "\n",
      "    lammps_header = [\"units real\",\n",
      "\t\t     \"atom_style full\",\n",
      "\t\t     \"boundary p p p\"]\n",
      "\n",
      "    amendments = [\"set type 1 charge 0.92\",\n",
      "\t\t  \"set type 2 charge 2.59\",\n",
      "\t\t  \"set type 3 charge -1.17\"]\n",
      "\n",
      "    post_changebox_cmds = None\n",
      "\n",
      "    calc = LAMMPSlib(lmpcmds=lmpcmds,\n",
      "                     atoms_types=atom_types,\n",
      "                     atom_type_masses=atom_type_masses,\n",
      "                     log_file=log_file,\n",
      "                     lammps_header=lammps_header,\n",
      "                     amendments=amendments,\n",
      "                     post_changebox_cmds=post_changebox_cmds)\n",
      "    \n",
      "    atoms.set_calculator(calc)\n",
      "\n",
      "    return atoms.get_potential_energy()\n",
      "\n"
     ]
    }
   ],
   "source": [
    "# Testing lammps_method_from_data_to_text\n",
    "from lammps_calc_from_inp import lammps_method_from_data_to_text\n",
    "\n",
    "method_name = \"XYZ_method\"\n",
    "log_file = \"XYZ.log\"\n",
    "\n",
    "text = lammps_method_from_data_to_text(method_name, **input_dict)\n",
    "\n",
    "print(text)"
   ]
  }
 ],
 "metadata": {
  "kernelspec": {
   "display_name": "Python 3.8.10 64-bit",
   "language": "python",
   "name": "python3"
  },
  "language_info": {
   "codemirror_mode": {
    "name": "ipython",
    "version": 3
   },
   "file_extension": ".py",
   "mimetype": "text/x-python",
   "name": "python",
   "nbconvert_exporter": "python",
   "pygments_lexer": "ipython3",
   "version": "3.8.10"
  },
  "orig_nbformat": 4,
  "vscode": {
   "interpreter": {
    "hash": "916dbcbb3f70747c44a77c7bcd40155683ae19c65e1c03b4aa3499c5328201f1"
   }
  }
 },
 "nbformat": 4,
 "nbformat_minor": 2
}
